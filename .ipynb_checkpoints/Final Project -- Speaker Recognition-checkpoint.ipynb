{
 "cells": [
  {
   "cell_type": "markdown",
   "metadata": {},
   "source": [
    "<table style=\"float:left\">\n",
    "    <tr>\n",
    "        <td>\n",
    "            <img src=\"images/emlyon.png\" style=\"height:60px; float:left; padding-right:10px; margin-top:5px\" />\n",
    "        </td>\n",
    "        <td style=\"\">\n",
    "            <div style=\"display:inline-block; float:left; text-align:left; width:500px;\">\n",
    "            <h1 style=\"border-bottom: 1px solid #eeeeee; display:table-cell; padding-bottom:5px;\"> Introduction to Deep Learning </h1>\n",
    "            <a style=\"\" href=\"https://em-lyon.com/\">[emlyon]</a> business school    \n",
    "            <br/>\n",
    "            Lyon, Paris | © Saeed VARASTEH\n",
    "            </div>\n",
    "        </td>\n",
    "    </tr>\n",
    "</table>"
   ]
  },
  {
   "cell_type": "markdown",
   "metadata": {},
   "source": [
    "<div class=\"alert-info\" style=\"border-bottom: solid 1px lightgray; background-color:#ece4f5;\">\n",
    "    <img src=\"images/assignment.png\" style=\"height:60px; float:left; padding-right:10px;\" />\n",
    "    <span style=\"font-weight:bold; color:#8966b0\">\n",
    "        <h4 style=\"padding-top:25px;\"> FINAL PROJECT </h4>\n",
    "    </span>\n",
    "</div>"
   ]
  },
  {
   "cell_type": "markdown",
   "metadata": {},
   "source": [
    "###  DSAIS Speaker Recognition Application\n"
   ]
  },
  {
   "cell_type": "markdown",
   "metadata": {},
   "source": [
    "In this project, you'll build a speaker recognition system to recognize your friends voices.\n",
    "\n",
    "Let us return to Homework 02. Remember that we built a __fully connected model__ over __averaged mfcc vectors__ extracted from your speech samples? \n",
    "\n",
    "Review the questions I asked you at the end of this homework. Now you are able to answer those questions.\n",
    "\n",
    "__Your task: Improve your speaker recognition model__.\n",
    "\n",
    "How can you improve the model? The answer is simple: Find a better way to represent the input and extract features from it.\n",
    "\n",
    "- See if you can play with the parameters of the MFCC extraction function. More MFCC features, or different Mel filter bank parameters (__melkwargs__), or even extracting other speech-related features.\n",
    "\n",
    "- Currently, we are averaging all MFCC vectors from the signal. It is better to try a different strategy. For example, you can keep a sequence of MFCC features and try RNN models.\n",
    "\n",
    "- Use existing pre-trained models for audio/speech signals to extract the features from your audio signals. Add a classification head to the model and similar to what we did in our transfer learning session, train the new model. Great speech models are available in \"speechbrain\", \"torchaudio\" and \"pyannote\" libraries.\n",
    "\n",
    "__Test the model__:\n",
    "\n",
    "You can use Homework 02 codes as a baseline. To test the model, use three of your friends to see if the model can accurately guess the speaker.\n",
    "\n",
    "__Extra step (high bounce!)__:\n",
    "\n",
    "- Build a Python application that recognizes speakers. I will show you how and give an example in class.\n",
    "\n",
    "- EDA, Apply PCA to embeddings of voices and visualize them, etc. are optional and will increase your score.\n",
    "\n",
    "Good Luck!"
   ]
  },
  {
   "cell_type": "code",
   "execution_count": null,
   "metadata": {},
   "outputs": [],
   "source": [
    "pwd"
   ]
  },
  {
   "cell_type": "code",
   "execution_count": null,
   "metadata": {},
   "outputs": [],
   "source": [
    "!pip install umap-learn"
   ]
  },
  {
   "cell_type": "code",
   "execution_count": null,
   "metadata": {},
   "outputs": [],
   "source": [
    "!pip install speechbrain"
   ]
  },
  {
   "cell_type": "markdown",
   "metadata": {},
   "source": [
    "---"
   ]
  },
  {
   "cell_type": "code",
   "execution_count": 1,
   "metadata": {},
   "outputs": [],
   "source": [
    "#Importing Required Libraries and Initializing Environment"
   ]
  },
  {
   "cell_type": "code",
   "execution_count": 3,
   "metadata": {},
   "outputs": [],
   "source": [
    "# ==== Step 1: Import Libraries and Set Up Environment ====\n",
    "\n",
    "import glob\n",
    "import time\n",
    "import random\n",
    "from collections import Counter\n",
    "import os\n",
    "import json\n",
    "\n",
    "import torch\n",
    "import torchaudio\n",
    "import torch.nn as nn\n",
    "from torch.utils.data import TensorDataset, Subset, DataLoader\n",
    "from torch.optim.lr_scheduler import ReduceLROnPlateau\n",
    "\n",
    "import numpy as np\n",
    "import pandas as pd\n",
    "import matplotlib.pyplot as plt\n",
    "from tqdm.notebook import tqdm\n",
    "\n",
    "from sklearn.preprocessing import LabelEncoder\n",
    "from sklearn.model_selection import StratifiedKFold\n",
    "from sklearn.decomposition import PCA\n",
    "from sklearn.manifold import TSNE\n",
    "import umap.umap_ as umap # UMAP i used it in order to reduce high dimensional embeddings to 2D for visualizationw later on. \n",
    "\n",
    "import joblib\n",
    "\n",
    "from speechbrain.inference import SpeakerRecognition"
   ]
  },
  {
   "cell_type": "code",
   "execution_count": 4,
   "metadata": {},
   "outputs": [],
   "source": [
    "#Set Seed for Reproducibility"
   ]
  },
  {
   "cell_type": "code",
   "execution_count": 5,
   "metadata": {},
   "outputs": [
    {
     "name": "stdout",
     "output_type": "stream",
     "text": [
      "Using device: cpu\n"
     ]
    }
   ],
   "source": [
    "SEED = 42\n",
    "random.seed(SEED)\n",
    "np.random.seed(SEED)\n",
    "torch.manual_seed(SEED)\n",
    "if torch.cuda.is_available():\n",
    "    torch.cuda.manual_seed_all(SEED)\n",
    "    torch.backends.cudnn.deterministic = True\n",
    "    torch.backends.cudnn.benchmark = False\n",
    "\n",
    "# ==== Set Device ====\n",
    "device = torch.device(\"cuda\" if torch.cuda.is_available() else \"cpu\")\n",
    "print(f\"Using device: {device}\")"
   ]
  },
  {
   "cell_type": "code",
   "execution_count": 6,
   "metadata": {},
   "outputs": [],
   "source": [
    "# Load all audio file paths and associated speaker labels from dataset directory"
   ]
  },
  {
   "cell_type": "code",
   "execution_count": 7,
   "metadata": {},
   "outputs": [
    {
     "name": "stdout",
     "output_type": "stream",
     "text": [
      " Volume in drive C is OS\n",
      " Volume Serial Number is D6D3-CFD0\n",
      "\n",
      " Directory of C:\\Users\\ricar\\Desktop\\final project deep learning avm\n",
      "\n",
      "11/04/2025  01:37    <DIR>          .\n",
      "11/04/2025  00:44    <DIR>          ..\n",
      "10/04/2025  00:26    <DIR>          .ipynb_checkpoints\n",
      "11/04/2025  00:47           147,045 best_speaker_classifier.pt\n",
      "11/04/2025  00:57           133,459 Final Project -- Speaker Recognition.ipynb\n",
      "10/04/2025  00:28         2,685,243 Homework 02 -- Speaker Identification.ipynb\n",
      "11/04/2025  01:37           139,701 screenshot of the web application working .png\n",
      "11/04/2025  00:46             1,687 speaker_label_encoder.pkl\n",
      "10/04/2025  00:37    <DIR>          Speakers\n",
      "11/04/2025  01:35             3,441 streamlit_app.py\n",
      "11/04/2025  01:37           428,451 temp_audio.mp3\n",
      "11/04/2025  00:15    <DIR>          test\n",
      "               7 File(s)      3,539,027 bytes\n",
      "               5 Dir(s)  795,126,505,472 bytes free\n"
     ]
    }
   ],
   "source": [
    "ls"
   ]
  },
  {
   "cell_type": "code",
   "execution_count": 8,
   "metadata": {},
   "outputs": [
    {
     "name": "stdout",
     "output_type": "stream",
     "text": [
      "✅ Loaded 170 audio files from 34 speakers.\n",
      "📊 Speaker distribution: Counter({'abdoulaye': 5, 'abhishek': 5, 'adam': 5, 'adesh': 5, 'agathe': 5, 'arisa': 5, 'arthur': 5, 'ayoub': 5, 'camille': 5, 'charlotte': 5, 'dilara': 5, 'ekaterina': 5, 'ella': 5, 'hadi': 5, 'henry': 5, 'himanshu': 5, 'hugo': 5, 'jermiah': 5, 'jintian': 5, 'joaquin': 5, 'kp': 5, 'lou': 5, 'marysheeba': 5, 'matilde': 5, 'maude': 5, 'piercarlo': 5, 'saeed': 5, 'sicheng': 5, 'siwen': 5, 'tim': 5, 'walid': 5, 'yanlin': 5, 'yiwei': 5, 'yuying': 5})\n"
     ]
    }
   ],
   "source": [
    "import os\n",
    "import glob\n",
    "from collections import Counter\n",
    "\n",
    "# Dataset configuration\n",
    "DATA_DIR = \"./Speakers/train/\"\n",
    "AUDIO_EXTENSION = \"*.mp3\"\n",
    "\n",
    "# Initialize lists to hold file paths and labels\n",
    "all_filepaths = []\n",
    "all_labels = []\n",
    "\n",
    "# Helper function to ignore hidden/system directories\n",
    "def list_visible_dirs(directory):\n",
    "    return [\n",
    "        d for d in os.listdir(directory)\n",
    "        if not d.startswith(('.', '_')) and os.path.isdir(os.path.join(directory, d))\n",
    "    ]\n",
    "\n",
    "# Get speaker directories\n",
    "speaker_dirs = sorted(list_visible_dirs(DATA_DIR))\n",
    "\n",
    "# Raise an error if no speakers found\n",
    "if not speaker_dirs:\n",
    "    raise ValueError(f\"No speaker directories found in {DATA_DIR}\")\n",
    "\n",
    "# Loop through speaker folders and collect audio file paths\n",
    "for speaker in speaker_dirs:\n",
    "    speaker_path = os.path.join(DATA_DIR, speaker)\n",
    "    speaker_files = sorted(set(glob.glob(os.path.join(speaker_path, AUDIO_EXTENSION))))\n",
    "\n",
    "    if not speaker_files:\n",
    "        print(f\"⚠️ No audio files found for speaker: {speaker}\")\n",
    "        continue\n",
    "\n",
    "    all_filepaths.extend(speaker_files)\n",
    "    all_labels.extend([speaker] * len(speaker_files))\n",
    "\n",
    "# Summary\n",
    "print(f\"✅ Loaded {len(all_filepaths)} audio files from {len(set(all_labels))} speakers.\")\n",
    "print(\"📊 Speaker distribution:\", Counter(all_labels))"
   ]
  },
  {
   "cell_type": "code",
   "execution_count": 9,
   "metadata": {},
   "outputs": [],
   "source": [
    "#Encode Speaker Labels and Save Encoder in oder to test later. "
   ]
  },
  {
   "cell_type": "code",
   "execution_count": 10,
   "metadata": {},
   "outputs": [
    {
     "name": "stdout",
     "output_type": "stream",
     "text": [
      "✅ Encoded 34 unique speakers.\n",
      "💾 Saved label encoder as 'speaker_label_encoder.pkl'\n"
     ]
    }
   ],
   "source": [
    "from sklearn.preprocessing import LabelEncoder\n",
    "import joblib\n",
    "\n",
    "# Encode speaker names into numerical labels\n",
    "label_encoder = LabelEncoder()\n",
    "encoded_labels = label_encoder.fit_transform(all_labels)\n",
    "\n",
    "# Create a mapping for decoding predictions later\n",
    "index_to_name = dict(enumerate(label_encoder.classes_))\n",
    "\n",
    "# Save the label encoder for future use (e.g., during testing)\n",
    "joblib.dump(label_encoder, \"speaker_label_encoder.pkl\")\n",
    "\n",
    "# Summary\n",
    "print(f\"✅ Encoded {len(set(encoded_labels))} unique speakers.\")\n",
    "print(\"💾 Saved label encoder as 'speaker_label_encoder.pkl'\")"
   ]
  },
  {
   "cell_type": "code",
   "execution_count": 11,
   "metadata": {},
   "outputs": [],
   "source": [
    "#Downloading a model from speechbrain. \n",
    "#The ECAPA-TDNN model is a powerful, pretrained deep learning model that extracts unique speaker features from audio, helping us recognize who is speaking based on their voice."
   ]
  },
  {
   "cell_type": "code",
   "execution_count": 12,
   "metadata": {},
   "outputs": [],
   "source": [
    "#Loading the petrained ECAPA-TDNN Speaker Recognition Model"
   ]
  },
  {
   "cell_type": "code",
   "execution_count": 13,
   "metadata": {},
   "outputs": [
    {
     "name": "stderr",
     "output_type": "stream",
     "text": [
      "C:\\Users\\ricar\\anaconda3\\Lib\\site-packages\\speechbrain\\utils\\autocast.py:188: FutureWarning: `torch.cuda.amp.custom_fwd(args...)` is deprecated. Please use `torch.amp.custom_fwd(args..., device_type='cuda')` instead.\n",
      "  wrapped_fwd = torch.cuda.amp.custom_fwd(fwd, cast_inputs=cast_inputs)\n"
     ]
    },
    {
     "name": "stdout",
     "output_type": "stream",
     "text": [
      "✅ ECAPA-TDNN model loaded successfully.\n"
     ]
    }
   ],
   "source": [
    "from speechbrain.inference import SpeakerRecognition\n",
    "\n",
    "# Load the pretrained ECAPA-TDNN model from SpeechBrain\n",
    "speaker_model = SpeakerRecognition.from_hparams(\n",
    "    source=\"speechbrain/spkrec-ecapa-voxceleb\"\n",
    ")\n",
    "\n",
    "print(\"✅ ECAPA-TDNN model loaded successfully.\")"
   ]
  },
  {
   "cell_type": "code",
   "execution_count": 14,
   "metadata": {},
   "outputs": [
    {
     "name": "stdout",
     "output_type": "stream",
     "text": [
      " Volume in drive C is OS\n",
      " Volume Serial Number is D6D3-CFD0\n",
      "\n",
      " Directory of C:\\Users\\ricar\\Desktop\\final project deep learning avm\n",
      "\n",
      "11/04/2025  01:37    <DIR>          .\n",
      "11/04/2025  00:44    <DIR>          ..\n",
      "10/04/2025  00:26    <DIR>          .ipynb_checkpoints\n",
      "11/04/2025  00:47           147,045 best_speaker_classifier.pt\n",
      "11/04/2025  00:57           133,459 Final Project -- Speaker Recognition.ipynb\n",
      "10/04/2025  00:28         2,685,243 Homework 02 -- Speaker Identification.ipynb\n",
      "11/04/2025  01:37           139,701 screenshot of the web application working .png\n",
      "11/04/2025  01:42             1,687 speaker_label_encoder.pkl\n",
      "10/04/2025  00:37    <DIR>          Speakers\n",
      "11/04/2025  01:35             3,441 streamlit_app.py\n",
      "11/04/2025  01:37           428,451 temp_audio.mp3\n",
      "11/04/2025  00:15    <DIR>          test\n",
      "               7 File(s)      3,539,027 bytes\n",
      "               5 Dir(s)  795,126,505,472 bytes free\n"
     ]
    }
   ],
   "source": [
    "ls"
   ]
  },
  {
   "cell_type": "code",
   "execution_count": 15,
   "metadata": {},
   "outputs": [],
   "source": [
    "# === Step: Audio Preprocessing and Embedding Extraction ===\n",
    "# This section prepares audio data for speaker recognition.\n",
    "# 1. It defines a preprocessing function to normalize, resample, and pad audio.\n",
    "# 2. Loads the pretrained ECAPA-TDNN model from SpeechBrain to extract speaker embeddings.\n",
    "# 3. Loops through all audio files, extracts embeddings, and stores them in memory for training."
   ]
  },
  {
   "cell_type": "code",
   "execution_count": 16,
   "metadata": {},
   "outputs": [],
   "source": [
    "import torchaudio\n",
    "import torchaudio.transforms as T\n",
    "\n",
    "# Constants\n",
    "TARGET_SAMPLE_RATE = 16000\n",
    "MAX_AUDIO_DURATION_SEC = 12\n",
    "MAX_SAMPLES = TARGET_SAMPLE_RATE * MAX_AUDIO_DURATION_SEC\n",
    "\n",
    "def preprocess_audio(filepath):\n",
    "    try:\n",
    "        waveform, sample_rate = torchaudio.load(filepath)\n",
    "\n",
    "        # Convert to mono if stereo\n",
    "        if waveform.shape[0] > 1:\n",
    "            waveform = torch.mean(waveform, dim=0, keepdim=True)\n",
    "\n",
    "        # Resample if needed\n",
    "        if sample_rate != TARGET_SAMPLE_RATE:\n",
    "            resampler = T.Resample(orig_freq=sample_rate, new_freq=TARGET_SAMPLE_RATE)\n",
    "            waveform = resampler(waveform)\n",
    "\n",
    "        # Truncate or pad to max duration\n",
    "        if waveform.shape[1] > MAX_SAMPLES:\n",
    "            waveform = waveform[:, :MAX_SAMPLES]\n",
    "        else:\n",
    "            padding = MAX_SAMPLES - waveform.shape[1]\n",
    "            waveform = torch.nn.functional.pad(waveform, (0, padding))\n",
    "\n",
    "        return waveform\n",
    "    except Exception as e:\n",
    "        print(f\"⚠️ Error processing {filepath}: {e}\")\n",
    "        return None\n"
   ]
  },
  {
   "cell_type": "code",
   "execution_count": 17,
   "metadata": {},
   "outputs": [
    {
     "data": {
      "text/plain": [
       "SpeakerRecognition(\n",
       "  (mods): ModuleDict(\n",
       "    (compute_features): Fbank(\n",
       "      (compute_STFT): STFT()\n",
       "      (compute_fbanks): Filterbank()\n",
       "      (compute_deltas): Deltas()\n",
       "      (context_window): ContextWindow()\n",
       "    )\n",
       "    (mean_var_norm): InputNormalization()\n",
       "    (embedding_model): ECAPA_TDNN(\n",
       "      (blocks): ModuleList(\n",
       "        (0): TDNNBlock(\n",
       "          (conv): Conv1d(\n",
       "            (conv): Conv1d(80, 1024, kernel_size=(5,), stride=(1,))\n",
       "          )\n",
       "          (activation): ReLU()\n",
       "          (norm): BatchNorm1d(\n",
       "            (norm): BatchNorm1d(1024, eps=1e-05, momentum=0.1, affine=True, track_running_stats=True)\n",
       "          )\n",
       "          (dropout): Dropout1d(p=0.0, inplace=False)\n",
       "        )\n",
       "        (1): SERes2NetBlock(\n",
       "          (tdnn1): TDNNBlock(\n",
       "            (conv): Conv1d(\n",
       "              (conv): Conv1d(1024, 1024, kernel_size=(1,), stride=(1,))\n",
       "            )\n",
       "            (activation): ReLU()\n",
       "            (norm): BatchNorm1d(\n",
       "              (norm): BatchNorm1d(1024, eps=1e-05, momentum=0.1, affine=True, track_running_stats=True)\n",
       "            )\n",
       "            (dropout): Dropout1d(p=0.0, inplace=False)\n",
       "          )\n",
       "          (res2net_block): Res2NetBlock(\n",
       "            (blocks): ModuleList(\n",
       "              (0-6): 7 x TDNNBlock(\n",
       "                (conv): Conv1d(\n",
       "                  (conv): Conv1d(128, 128, kernel_size=(3,), stride=(1,), dilation=(2,))\n",
       "                )\n",
       "                (activation): ReLU()\n",
       "                (norm): BatchNorm1d(\n",
       "                  (norm): BatchNorm1d(128, eps=1e-05, momentum=0.1, affine=True, track_running_stats=True)\n",
       "                )\n",
       "                (dropout): Dropout1d(p=0.0, inplace=False)\n",
       "              )\n",
       "            )\n",
       "          )\n",
       "          (tdnn2): TDNNBlock(\n",
       "            (conv): Conv1d(\n",
       "              (conv): Conv1d(1024, 1024, kernel_size=(1,), stride=(1,))\n",
       "            )\n",
       "            (activation): ReLU()\n",
       "            (norm): BatchNorm1d(\n",
       "              (norm): BatchNorm1d(1024, eps=1e-05, momentum=0.1, affine=True, track_running_stats=True)\n",
       "            )\n",
       "            (dropout): Dropout1d(p=0.0, inplace=False)\n",
       "          )\n",
       "          (se_block): SEBlock(\n",
       "            (conv1): Conv1d(\n",
       "              (conv): Conv1d(1024, 128, kernel_size=(1,), stride=(1,))\n",
       "            )\n",
       "            (relu): ReLU(inplace=True)\n",
       "            (conv2): Conv1d(\n",
       "              (conv): Conv1d(128, 1024, kernel_size=(1,), stride=(1,))\n",
       "            )\n",
       "            (sigmoid): Sigmoid()\n",
       "          )\n",
       "        )\n",
       "        (2): SERes2NetBlock(\n",
       "          (tdnn1): TDNNBlock(\n",
       "            (conv): Conv1d(\n",
       "              (conv): Conv1d(1024, 1024, kernel_size=(1,), stride=(1,))\n",
       "            )\n",
       "            (activation): ReLU()\n",
       "            (norm): BatchNorm1d(\n",
       "              (norm): BatchNorm1d(1024, eps=1e-05, momentum=0.1, affine=True, track_running_stats=True)\n",
       "            )\n",
       "            (dropout): Dropout1d(p=0.0, inplace=False)\n",
       "          )\n",
       "          (res2net_block): Res2NetBlock(\n",
       "            (blocks): ModuleList(\n",
       "              (0-6): 7 x TDNNBlock(\n",
       "                (conv): Conv1d(\n",
       "                  (conv): Conv1d(128, 128, kernel_size=(3,), stride=(1,), dilation=(3,))\n",
       "                )\n",
       "                (activation): ReLU()\n",
       "                (norm): BatchNorm1d(\n",
       "                  (norm): BatchNorm1d(128, eps=1e-05, momentum=0.1, affine=True, track_running_stats=True)\n",
       "                )\n",
       "                (dropout): Dropout1d(p=0.0, inplace=False)\n",
       "              )\n",
       "            )\n",
       "          )\n",
       "          (tdnn2): TDNNBlock(\n",
       "            (conv): Conv1d(\n",
       "              (conv): Conv1d(1024, 1024, kernel_size=(1,), stride=(1,))\n",
       "            )\n",
       "            (activation): ReLU()\n",
       "            (norm): BatchNorm1d(\n",
       "              (norm): BatchNorm1d(1024, eps=1e-05, momentum=0.1, affine=True, track_running_stats=True)\n",
       "            )\n",
       "            (dropout): Dropout1d(p=0.0, inplace=False)\n",
       "          )\n",
       "          (se_block): SEBlock(\n",
       "            (conv1): Conv1d(\n",
       "              (conv): Conv1d(1024, 128, kernel_size=(1,), stride=(1,))\n",
       "            )\n",
       "            (relu): ReLU(inplace=True)\n",
       "            (conv2): Conv1d(\n",
       "              (conv): Conv1d(128, 1024, kernel_size=(1,), stride=(1,))\n",
       "            )\n",
       "            (sigmoid): Sigmoid()\n",
       "          )\n",
       "        )\n",
       "        (3): SERes2NetBlock(\n",
       "          (tdnn1): TDNNBlock(\n",
       "            (conv): Conv1d(\n",
       "              (conv): Conv1d(1024, 1024, kernel_size=(1,), stride=(1,))\n",
       "            )\n",
       "            (activation): ReLU()\n",
       "            (norm): BatchNorm1d(\n",
       "              (norm): BatchNorm1d(1024, eps=1e-05, momentum=0.1, affine=True, track_running_stats=True)\n",
       "            )\n",
       "            (dropout): Dropout1d(p=0.0, inplace=False)\n",
       "          )\n",
       "          (res2net_block): Res2NetBlock(\n",
       "            (blocks): ModuleList(\n",
       "              (0-6): 7 x TDNNBlock(\n",
       "                (conv): Conv1d(\n",
       "                  (conv): Conv1d(128, 128, kernel_size=(3,), stride=(1,), dilation=(4,))\n",
       "                )\n",
       "                (activation): ReLU()\n",
       "                (norm): BatchNorm1d(\n",
       "                  (norm): BatchNorm1d(128, eps=1e-05, momentum=0.1, affine=True, track_running_stats=True)\n",
       "                )\n",
       "                (dropout): Dropout1d(p=0.0, inplace=False)\n",
       "              )\n",
       "            )\n",
       "          )\n",
       "          (tdnn2): TDNNBlock(\n",
       "            (conv): Conv1d(\n",
       "              (conv): Conv1d(1024, 1024, kernel_size=(1,), stride=(1,))\n",
       "            )\n",
       "            (activation): ReLU()\n",
       "            (norm): BatchNorm1d(\n",
       "              (norm): BatchNorm1d(1024, eps=1e-05, momentum=0.1, affine=True, track_running_stats=True)\n",
       "            )\n",
       "            (dropout): Dropout1d(p=0.0, inplace=False)\n",
       "          )\n",
       "          (se_block): SEBlock(\n",
       "            (conv1): Conv1d(\n",
       "              (conv): Conv1d(1024, 128, kernel_size=(1,), stride=(1,))\n",
       "            )\n",
       "            (relu): ReLU(inplace=True)\n",
       "            (conv2): Conv1d(\n",
       "              (conv): Conv1d(128, 1024, kernel_size=(1,), stride=(1,))\n",
       "            )\n",
       "            (sigmoid): Sigmoid()\n",
       "          )\n",
       "        )\n",
       "      )\n",
       "      (mfa): TDNNBlock(\n",
       "        (conv): Conv1d(\n",
       "          (conv): Conv1d(3072, 3072, kernel_size=(1,), stride=(1,))\n",
       "        )\n",
       "        (activation): ReLU()\n",
       "        (norm): BatchNorm1d(\n",
       "          (norm): BatchNorm1d(3072, eps=1e-05, momentum=0.1, affine=True, track_running_stats=True)\n",
       "        )\n",
       "        (dropout): Dropout1d(p=0.0, inplace=False)\n",
       "      )\n",
       "      (asp): AttentiveStatisticsPooling(\n",
       "        (tdnn): TDNNBlock(\n",
       "          (conv): Conv1d(\n",
       "            (conv): Conv1d(9216, 128, kernel_size=(1,), stride=(1,))\n",
       "          )\n",
       "          (activation): ReLU()\n",
       "          (norm): BatchNorm1d(\n",
       "            (norm): BatchNorm1d(128, eps=1e-05, momentum=0.1, affine=True, track_running_stats=True)\n",
       "          )\n",
       "          (dropout): Dropout1d(p=0.0, inplace=False)\n",
       "        )\n",
       "        (tanh): Tanh()\n",
       "        (conv): Conv1d(\n",
       "          (conv): Conv1d(128, 3072, kernel_size=(1,), stride=(1,))\n",
       "        )\n",
       "      )\n",
       "      (asp_bn): BatchNorm1d(\n",
       "        (norm): BatchNorm1d(6144, eps=1e-05, momentum=0.1, affine=True, track_running_stats=True)\n",
       "      )\n",
       "      (fc): Conv1d(\n",
       "        (conv): Conv1d(6144, 192, kernel_size=(1,), stride=(1,))\n",
       "      )\n",
       "    )\n",
       "    (mean_var_norm_emb): InputNormalization()\n",
       "    (classifier): Classifier(\n",
       "      (blocks): ModuleList()\n",
       "    )\n",
       "  )\n",
       "  (similarity): CosineSimilarity()\n",
       ")"
      ]
     },
     "execution_count": 17,
     "metadata": {},
     "output_type": "execute_result"
    }
   ],
   "source": [
    "from speechbrain.inference import SpeakerRecognition\n",
    "\n",
    "# Load the pretrained speaker model\n",
    "verification = SpeakerRecognition.from_hparams(source=\"speechbrain/spkrec-ecapa-voxceleb\")\n",
    "verification.eval()"
   ]
  },
  {
   "cell_type": "code",
   "execution_count": 18,
   "metadata": {},
   "outputs": [
    {
     "data": {
      "application/vnd.jupyter.widget-view+json": {
       "model_id": "c9defa9232bf4b44861e0eefdbcad00f",
       "version_major": 2,
       "version_minor": 0
      },
      "text/plain": [
       "Extracting Embeddings:   0%|          | 0/170 [00:00<?, ?it/s]"
      ]
     },
     "metadata": {},
     "output_type": "display_data"
    },
    {
     "name": "stdout",
     "output_type": "stream",
     "text": [
      "✅ Extracted 170 embeddings ready for training.\n"
     ]
    }
   ],
   "source": [
    "embeddings = []\n",
    "labels_for_training = []\n",
    "\n",
    "for filepath, label in tqdm(zip(all_filepaths, encoded_labels), total=len(all_filepaths), desc=\"Extracting Embeddings\"):\n",
    "    waveform = preprocess_audio(filepath)\n",
    "    if waveform is None:\n",
    "        continue\n",
    "\n",
    "    with torch.no_grad():\n",
    "        try:\n",
    "            emb = verification.encode_batch(waveform, wav_lens=torch.tensor([1.0]))\n",
    "            emb = emb.squeeze(0).squeeze(0)  # Shape: [192]\n",
    "            emb = torch.nn.functional.normalize(emb, p=2, dim=0)\n",
    "        except Exception as e:\n",
    "            print(f\"Model error for {filepath}: {e}\")\n",
    "            continue\n",
    "\n",
    "    embeddings.append(emb)\n",
    "    labels_for_training.append(label)\n",
    "\n",
    "# Convert to tensors for training\n",
    "embeddings_tensor = torch.stack(embeddings)\n",
    "labels_tensor = torch.tensor(labels_for_training)\n",
    "\n",
    "print(f\"✅ Extracted {len(embeddings_tensor)} embeddings ready for training.\")\n"
   ]
  },
  {
   "cell_type": "code",
   "execution_count": 19,
   "metadata": {},
   "outputs": [],
   "source": [
    "import torch\n",
    "import torch.nn as nn\n",
    "import torch.nn.functional as F\n",
    "from torch.utils.data import TensorDataset, DataLoader\n",
    "from torch.optim.lr_scheduler import ReduceLROnPlateau\n",
    "from sklearn.model_selection import train_test_split\n",
    "import matplotlib.pyplot as plt\n",
    "\n",
    "# Use your preloaded data\n",
    "X = embeddings_tensor  \n",
    "y = labels_tensor\n",
    "NUM_CLASSES = len(torch.unique(y))\n",
    "\n",
    "#Train and Validation Split\n",
    "X_train, X_val, y_train, y_val = train_test_split(\n",
    "    X, y, test_size=0.2, stratify=y, random_state=42\n",
    ")\n",
    "\n",
    "# Create Datasets and Loaders\n",
    "BATCH_SIZE = 16\n",
    "train_dataset = TensorDataset(X_train, y_train)\n",
    "val_dataset = TensorDataset(X_val, y_val)\n",
    "\n",
    "train_loader = DataLoader(train_dataset, batch_size=BATCH_SIZE, shuffle=True)\n",
    "val_loader = DataLoader(val_dataset, batch_size=BATCH_SIZE, shuffle=False)"
   ]
  },
  {
   "cell_type": "code",
   "execution_count": 20,
   "metadata": {},
   "outputs": [],
   "source": [
    "#Define Classifier Model\n",
    "class SimpleEmbeddingClassifierBN(nn.Module):\n",
    "    def __init__(self, input_dim, num_classes):\n",
    "        super().__init__()\n",
    "        self.model = nn.Sequential(\n",
    "            nn.Linear(input_dim, 128),\n",
    "            nn.ReLU(),\n",
    "            nn.BatchNorm1d(128),\n",
    "            nn.Linear(128, 64),\n",
    "            nn.ReLU(),\n",
    "            nn.Linear(64, num_classes)\n",
    "        )\n",
    "\n",
    "    def forward(self, x):\n",
    "        return self.model(x)\n",
    "\n",
    "model = SimpleEmbeddingClassifierBN(input_dim=192, num_classes=NUM_CLASSES).to(\"cuda\" if torch.cuda.is_available() else \"cpu\")"
   ]
  },
  {
   "cell_type": "code",
   "execution_count": 21,
   "metadata": {},
   "outputs": [
    {
     "name": "stdout",
     "output_type": "stream",
     "text": [
      "Epoch 01 | Train Acc: 8.82% | Val Acc: 5.88%\n",
      "Epoch 02 | Train Acc: 7.35% | Val Acc: 5.88%\n",
      "Epoch 03 | Train Acc: 10.29% | Val Acc: 5.88%\n",
      "Epoch 04 | Train Acc: 19.12% | Val Acc: 8.82%\n",
      "Epoch 05 | Train Acc: 22.06% | Val Acc: 17.65%\n"
     ]
    },
    {
     "name": "stderr",
     "output_type": "stream",
     "text": [
      "C:\\Users\\ricar\\anaconda3\\Lib\\site-packages\\torch\\optim\\lr_scheduler.py:62: UserWarning: The verbose parameter is deprecated. Please use get_last_lr() to access the learning rate.\n",
      "  warnings.warn(\n"
     ]
    },
    {
     "name": "stdout",
     "output_type": "stream",
     "text": [
      "Epoch 06 | Train Acc: 26.47% | Val Acc: 20.59%\n",
      "Epoch 07 | Train Acc: 27.94% | Val Acc: 26.47%\n",
      "Epoch 08 | Train Acc: 33.09% | Val Acc: 26.47%\n",
      "Epoch 09 | Train Acc: 38.97% | Val Acc: 32.35%\n",
      "Epoch 10 | Train Acc: 46.32% | Val Acc: 32.35%\n",
      "Epoch 11 | Train Acc: 50.74% | Val Acc: 35.29%\n",
      "Epoch 12 | Train Acc: 55.88% | Val Acc: 41.18%\n",
      "Epoch 13 | Train Acc: 60.29% | Val Acc: 41.18%\n",
      "Epoch 14 | Train Acc: 60.29% | Val Acc: 41.18%\n",
      "Epoch 15 | Train Acc: 65.44% | Val Acc: 44.12%\n",
      "Epoch 16 | Train Acc: 71.32% | Val Acc: 44.12%\n",
      "Epoch 17 | Train Acc: 75.74% | Val Acc: 44.12%\n",
      "Epoch 18 | Train Acc: 78.68% | Val Acc: 47.06%\n",
      "Epoch 19 | Train Acc: 80.88% | Val Acc: 58.82%\n",
      "Epoch 20 | Train Acc: 83.09% | Val Acc: 58.82%\n",
      "Epoch 21 | Train Acc: 85.29% | Val Acc: 58.82%\n",
      "Epoch 22 | Train Acc: 90.44% | Val Acc: 64.71%\n",
      "Epoch 23 | Train Acc: 91.91% | Val Acc: 64.71%\n",
      "Epoch 24 | Train Acc: 91.18% | Val Acc: 64.71%\n",
      "Epoch 25 | Train Acc: 90.44% | Val Acc: 64.71%\n",
      "Epoch 26 | Train Acc: 93.38% | Val Acc: 64.71%\n",
      "Epoch 27 | Train Acc: 95.59% | Val Acc: 67.65%\n",
      "Epoch 28 | Train Acc: 91.91% | Val Acc: 67.65%\n",
      "Epoch 29 | Train Acc: 96.32% | Val Acc: 67.65%\n",
      "Epoch 30 | Train Acc: 97.79% | Val Acc: 70.59%\n",
      "Epoch 31 | Train Acc: 94.85% | Val Acc: 76.47%\n",
      "Epoch 32 | Train Acc: 97.06% | Val Acc: 73.53%\n",
      "Epoch 33 | Train Acc: 93.38% | Val Acc: 76.47%\n",
      "Epoch 34 | Train Acc: 96.32% | Val Acc: 73.53%\n",
      "Epoch 35 | Train Acc: 96.32% | Val Acc: 73.53%\n",
      "Epoch 36 | Train Acc: 97.79% | Val Acc: 73.53%\n",
      "Epoch 37 | Train Acc: 96.32% | Val Acc: 73.53%\n",
      "Epoch 38 | Train Acc: 97.79% | Val Acc: 76.47%\n",
      "Epoch 39 | Train Acc: 97.06% | Val Acc: 76.47%\n",
      "Epoch 40 | Train Acc: 99.26% | Val Acc: 73.53%\n",
      "Epoch 41 | Train Acc: 95.59% | Val Acc: 76.47%\n",
      "Epoch 42 | Train Acc: 99.26% | Val Acc: 76.47%\n",
      "Epoch 43 | Train Acc: 98.53% | Val Acc: 79.41%\n",
      "Epoch 44 | Train Acc: 97.79% | Val Acc: 73.53%\n",
      "Epoch 45 | Train Acc: 96.32% | Val Acc: 76.47%\n",
      "Epoch 46 | Train Acc: 97.06% | Val Acc: 76.47%\n",
      "Epoch 47 | Train Acc: 96.32% | Val Acc: 79.41%\n",
      "Epoch 48 | Train Acc: 97.06% | Val Acc: 76.47%\n",
      "Epoch 49 | Train Acc: 98.53% | Val Acc: 76.47%\n",
      "Epoch 50 | Train Acc: 99.26% | Val Acc: 79.41%\n"
     ]
    }
   ],
   "source": [
    "#Training Setup\n",
    "device = torch.device(\"cuda\" if torch.cuda.is_available() else \"cpu\")\n",
    "criterion = nn.CrossEntropyLoss(label_smoothing=0.1)\n",
    "optimizer = torch.optim.AdamW(model.parameters(), lr=1e-4, weight_decay=1e-5)\n",
    "scheduler = ReduceLROnPlateau(optimizer, mode='max', factor=0.5, patience=3, verbose=True)\n",
    "\n",
    "def accuracy_fn(y_true, y_pred):\n",
    "    return (torch.eq(y_true, y_pred).sum().item() / len(y_pred)) * 100\n",
    "\n",
    "#Training Loop\n",
    "EPOCHS = 50\n",
    "best_val_acc = 0\n",
    "history = {'train_loss': [], 'val_loss': [], 'train_acc': [], 'val_acc': []}\n",
    "\n",
    "for epoch in range(EPOCHS):\n",
    "    model.train()\n",
    "    total_train_loss = 0\n",
    "    all_train_preds, all_train_labels = [], []\n",
    "\n",
    "    for x_batch, y_batch in train_loader:\n",
    "        x_batch, y_batch = x_batch.to(device), y_batch.to(device)\n",
    "\n",
    "        optimizer.zero_grad()\n",
    "        outputs = model(x_batch)\n",
    "        loss = criterion(outputs, y_batch)\n",
    "        loss.backward()\n",
    "        optimizer.step()\n",
    "\n",
    "        total_train_loss += loss.item() * y_batch.size(0)\n",
    "        _, preds = torch.max(outputs, 1)\n",
    "        all_train_preds.append(preds.cpu())\n",
    "        all_train_labels.append(y_batch.cpu())\n",
    "\n",
    "    train_loss = total_train_loss / len(train_loader.dataset)\n",
    "    train_acc = accuracy_fn(torch.cat(all_train_labels), torch.cat(all_train_preds))\n",
    "\n",
    "    #Validation \n",
    "    model.eval()\n",
    "    total_val_loss = 0\n",
    "    all_val_preds, all_val_labels = [], []\n",
    "\n",
    "    with torch.no_grad():\n",
    "        for x_batch, y_batch in val_loader:\n",
    "            x_batch, y_batch = x_batch.to(device), y_batch.to(device)\n",
    "            outputs = model(x_batch)\n",
    "            loss = criterion(outputs, y_batch)\n",
    "\n",
    "            total_val_loss += loss.item() * y_batch.size(0)\n",
    "            _, preds = torch.max(outputs, 1)\n",
    "            all_val_preds.append(preds.cpu())\n",
    "            all_val_labels.append(y_batch.cpu())\n",
    "\n",
    "    val_loss = total_val_loss / len(val_loader.dataset)\n",
    "    val_acc = accuracy_fn(torch.cat(all_val_labels), torch.cat(all_val_preds))\n",
    "\n",
    "    # Save history\n",
    "    history['train_loss'].append(train_loss)\n",
    "    history['val_loss'].append(val_loss)\n",
    "    history['train_acc'].append(train_acc)\n",
    "    history['val_acc'].append(val_acc)\n",
    "\n",
    "    scheduler.step(val_acc)\n",
    "\n",
    "    print(f\"Epoch {epoch+1:02d} | Train Acc: {train_acc:.2f}% | Val Acc: {val_acc:.2f}%\")\n",
    "\n",
    "    # Save best model\n",
    "    if val_acc > best_val_acc:\n",
    "        best_val_acc = val_acc\n",
    "        torch.save(model.state_dict(), \"best_speaker_classifier.pt\")\n"
   ]
  },
  {
   "cell_type": "code",
   "execution_count": 22,
   "metadata": {},
   "outputs": [
    {
     "data": {
      "image/png": "[encoded data removed]",
      "text/plain": [
       "<Figure size 1200x500 with 2 Axes>"
      ]
     },
     "metadata": {},
     "output_type": "display_data"
    }
   ],
   "source": [
    "#Plotting \n",
    "plt.figure(figsize=(12, 5))\n",
    "\n",
    "plt.subplot(1, 2, 1)\n",
    "plt.plot(history['train_loss'], label=\"Train Loss\")\n",
    "plt.plot(history['val_loss'], label=\"Val Loss\")\n",
    "plt.title(\"Loss\")\n",
    "plt.xlabel(\"Epoch\")\n",
    "plt.ylabel(\"Loss\")\n",
    "plt.legend()\n",
    "plt.grid()\n",
    "\n",
    "plt.subplot(1, 2, 2)\n",
    "plt.plot(history['train_acc'], label=\"Train Acc\")\n",
    "plt.plot(history['val_acc'], label=\"Val Acc\")\n",
    "plt.title(\"Accuracy\")\n",
    "plt.xlabel(\"Epoch\")\n",
    "plt.ylabel(\"Accuracy\")\n",
    "plt.legend()\n",
    "plt.grid()\n",
    "\n",
    "plt.tight_layout()\n",
    "plt.show()"
   ]
  },
  {
   "cell_type": "code",
   "execution_count": 78,
   "metadata": {},
   "outputs": [
    {
     "name": "stdout",
     "output_type": "stream",
     "text": [
      "C:\\Users\\ricar\\Desktop\\final project deep learning avm\n"
     ]
    }
   ],
   "source": [
    "cd .."
   ]
  },
  {
   "cell_type": "code",
   "execution_count": 82,
   "metadata": {},
   "outputs": [
    {
     "name": "stdout",
     "output_type": "stream",
     "text": [
      "🎙️ Agath voice test.mp3 → Predicted: agathe\n",
      "🎙️ Jerry voice test.mp3 → Predicted: jermiah\n",
      "🎙️ Shiba voice test.mp3 → Predicted: marysheeba\n"
     ]
    }
   ],
   "source": [
    "import os\n",
    "import torch\n",
    "import torchaudio\n",
    "import joblib\n",
    "from speechbrain.inference import SpeakerRecognition\n",
    "\n",
    "# === Step 1: Load your trained classifier ===\n",
    "class SimpleEmbeddingClassifierBN(nn.Module):\n",
    "    def __init__(self, input_dim, num_classes):\n",
    "        super().__init__()\n",
    "        self.model = nn.Sequential(\n",
    "            nn.Linear(input_dim, 128),\n",
    "            nn.ReLU(),\n",
    "            nn.BatchNorm1d(128),\n",
    "            nn.Linear(128, 64),\n",
    "            nn.ReLU(),\n",
    "            nn.Linear(64, num_classes)\n",
    "        )\n",
    "    def forward(self, x):\n",
    "        return self.model(x)\n",
    "\n",
    "# Load label encoder\n",
    "label_encoder = joblib.load(\"speaker_label_encoder.pkl\")\n",
    "num_classes = len(label_encoder.classes_)\n",
    "\n",
    "# Load model\n",
    "model = SimpleEmbeddingClassifierBN(192, num_classes)\n",
    "model.load_state_dict(torch.load(\"best_speaker_classifier.pt\"))\n",
    "model.eval().to(\"cuda\" if torch.cuda.is_available() else \"cpu\")\n",
    "\n",
    "# Load ECAPA-TDNN from SpeechBrain\n",
    "verification = SpeakerRecognition.from_hparams(source=\"speechbrain/spkrec-ecapa-voxceleb\")\n",
    "verification.eval()\n",
    "\n",
    "device = torch.device(\"cuda\" if torch.cuda.is_available() else \"cpu\")\n",
    "\n",
    "# === Step 2: Predict speaker from test folder ===\n",
    "TEST_DIR = \"./test\"\n",
    "test_files = [f for f in os.listdir(TEST_DIR) if f.endswith(\".mp3\")]\n",
    "\n",
    "for file in test_files:\n",
    "    path = os.path.join(TEST_DIR, file)\n",
    "    waveform = preprocess_audio(path)\n",
    "\n",
    "    if waveform is None:\n",
    "        print(f\"❌ Could not process {file}\")\n",
    "        continue\n",
    "\n",
    "    with torch.no_grad():\n",
    "        emb = verification.encode_batch(waveform, wav_lens=torch.tensor([1.0]))\n",
    "        emb = emb.squeeze(0).squeeze(0)\n",
    "        emb = torch.nn.functional.normalize(emb, p=2, dim=0).to(device)\n",
    "\n",
    "        output = model(emb.unsqueeze(0))\n",
    "        predicted_idx = torch.argmax(output, dim=1).item()\n",
    "        predicted_name = label_encoder.inverse_transform([predicted_idx])[0]\n",
    "\n",
    "    print(f\"🎙️ {file} → Predicted: {predicted_name}\")"
   ]
  },
  {
   "cell_type": "code",
   "execution_count": 25,
   "metadata": {},
   "outputs": [],
   "source": [
    "# Interpretation:\n",
    "# The model successfully predicted the speakers of the test audio files.\n",
    "# This confirms that our trained classifier is able to generalize and recognize voices it has seen during training.\n",
    "# It uses speaker embeddings from the ECAPA-TDNN model (SpeechBrain) and maps them to known speaker identities."
   ]
  },
  {
   "cell_type": "code",
   "execution_count": 26,
   "metadata": {},
   "outputs": [],
   "source": [
    "#Bonus Part - Building Speaker Recognition Application"
   ]
  },
  {
   "cell_type": "code",
   "execution_count": 27,
   "metadata": {},
   "outputs": [
    {
     "name": "stderr",
     "output_type": "stream",
     "text": [
      "C:\\Users\\ricar\\anaconda3\\Lib\\inspect.py:1000: UserWarning: Module 'speechbrain.pretrained' was deprecated, redirecting to 'speechbrain.inference'. Please update your script. This is a change from SpeechBrain 1.0. See: https://github.com/speechbrain/speechbrain/releases/tag/v1.0.0\n",
      "  if ismodule(module) and hasattr(module, '__file__'):\n",
      "2025-04-11 01:43:56.662 \n",
      "  \u001b[33m\u001b[1mWarning:\u001b[0m to view this Streamlit app on a browser, run it with the following\n",
      "  command:\n",
      "\n",
      "    streamlit run C:\\Users\\ricar\\anaconda3\\Lib\\site-packages\\ipykernel_launcher.py [ARGUMENTS]\n"
     ]
    }
   ],
   "source": [
    "# streamlit_app.py\n",
    "import streamlit as st\n",
    "import torch\n",
    "import joblib\n",
    "from speechbrain.inference import SpeakerRecognition\n",
    "import torchaudio\n",
    "import torch.nn as nn\n",
    "from pydub import AudioSegment\n",
    "import os\n",
    "\n",
    "# === Setup ===\n",
    "device = torch.device(\"cuda\" if torch.cuda.is_available() else \"cpu\")\n",
    "\n",
    "# Label encoder\n",
    "label_encoder = joblib.load(\"speaker_label_encoder.pkl\")\n",
    "num_classes = len(label_encoder.classes_)\n",
    "\n",
    "# Classifier model\n",
    "class SimpleEmbeddingClassifierBN(nn.Module):\n",
    "    def __init__(self, input_dim, num_classes):\n",
    "        super().__init__()\n",
    "        self.model = nn.Sequential(\n",
    "            nn.Linear(input_dim, 128),\n",
    "            nn.ReLU(),\n",
    "            nn.BatchNorm1d(128),\n",
    "            nn.Linear(128, 64),\n",
    "            nn.ReLU(),\n",
    "            nn.Linear(64, num_classes)\n",
    "        )\n",
    "    def forward(self, x):\n",
    "        return self.model(x)\n",
    "\n",
    "# Load trained model\n",
    "model = SimpleEmbeddingClassifierBN(192, num_classes)\n",
    "model.load_state_dict(torch.load(\"best_speaker_classifier.pt\", map_location=device))\n",
    "model.eval()\n",
    "\n",
    "# Load ECAPA-TDNN\n",
    "verification = SpeakerRecognition.from_hparams(source=\"speechbrain/spkrec-ecapa-voxceleb\")\n",
    "verification.eval()\n",
    "\n",
    "# Preprocess function\n",
    "def preprocess_audio(filepath, target_sr=16000, max_duration_sec=12):\n",
    "    waveform, sample_rate = torchaudio.load(filepath)\n",
    "\n",
    "    # Mono\n",
    "    if waveform.shape[0] > 1:\n",
    "        waveform = waveform.mean(dim=0, keepdim=True)\n",
    "\n",
    "    # Resample\n",
    "    if sample_rate != target_sr:\n",
    "        resampler = torchaudio.transforms.Resample(orig_freq=sample_rate, new_freq=target_sr)\n",
    "        waveform = resampler(waveform)\n",
    "\n",
    "    # Pad/truncate\n",
    "    max_samples = target_sr * max_duration_sec\n",
    "    if waveform.shape[1] < max_samples:\n",
    "        pad = max_samples - waveform.shape[1]\n",
    "        waveform = torch.nn.functional.pad(waveform, (0, pad))\n",
    "    else:\n",
    "        waveform = waveform[:, :max_samples]\n",
    "\n",
    "    return waveform\n",
    "\n",
    "# === Streamlit UI ===\n",
    "st.title(\"🎙️ Speaker Recognition App\")\n",
    "st.write(\"Upload an audio file (.mp3) to identify the speaker.\")\n",
    "\n",
    "uploaded_file = st.file_uploader(\"Choose an audio file\", type=[\"mp3\", \"ogg\", \"wav\"])\n",
    "\n",
    "if uploaded_file is not None:\n",
    "    with open(\"temp_audio.mp3\", \"wb\") as f:\n",
    "        f.write(uploaded_file.read())\n",
    "\n",
    "    waveform = preprocess_audio(\"temp_audio.mp3\")\n",
    "    with torch.no_grad():\n",
    "        emb = verification.encode_batch(waveform, wav_lens=torch.tensor([1.0]))\n",
    "        emb = emb.squeeze(0).squeeze(0)\n",
    "        emb = torch.nn.functional.normalize(emb, p=2, dim=0).to(device)\n",
    "\n",
    "        output = model(emb.unsqueeze(0))\n",
    "        pred = torch.argmax(output, dim=1).item()\n",
    "        speaker = label_encoder.inverse_transform([pred])[0]\n",
    "\n",
    "    st.success(f\"✅ Predicted speaker: **{speaker}**\")"
   ]
  },
  {
   "cell_type": "markdown",
   "metadata": {},
   "source": [
    "I wrote the streamlit_app.py file in visual code studio, inside the same project folder in order to be able to run it and test it.\n",
    "\n",
    "The app lets me upload an audio file (.mp3, .ogg, or .wav) and then it identifies the speaker using the model I trained earlier. It uses the pretrained ECAPA-TDNN model to extract features and my own classifier to predict the speaker’s name.\n",
    "\n",
    "At first, I had issues running the app, torchaudio couldn’t load MP3s, pydub gave errors because ffmpeg was mising( i had this in jupyer notebook, but i learned that i have to install it on my pc system as well, because jupyter environment is different), and there were some audio format conversion bugs. I fixed everything step by step by switching to using pydub for audio, installing and configuring the ffmpeg correctly on Windows, and finally made sure the audio format was handled properly before giving it to the model.\n",
    "\n",
    "In the end, it all worked ! \n",
    "You can see the screenshot of the app running in the browser and predicting the speaker correctly.(inside the folder)"
   ]
  },
  {
   "cell_type": "markdown",
   "metadata": {},
   "source": [
    "Thank you sir, it was a big big pleasure to be taught by you ! it was on of the most interesting and fun courses for this master really ! thank you so much ! "
   ]
  },
  {
   "cell_type": "code",
   "execution_count": null,
   "metadata": {},
   "outputs": [],
   "source": []
  }
 ],
 "metadata": {
  "kernelspec": {
   "display_name": "Python 3 (ipykernel)",
   "language": "python",
   "name": "python3"
  },
  "language_info": {
   "codemirror_mode": {
    "name": "ipython",
    "version": 3
   },
   "file_extension": ".py",
   "mimetype": "text/x-python",
   "name": "python",
   "nbconvert_exporter": "python",
   "pygments_lexer": "ipython3",
   "version": "3.12.3"
  }
 },
 "nbformat": 4,
 "nbformat_minor": 4
}
